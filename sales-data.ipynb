{
 "cells": [
  {
   "cell_type": "code",
   "execution_count": 2,
   "id": "47d65a33-35d5-4469-a0af-b2ed800391c7",
   "metadata": {},
   "outputs": [],
   "source": [
    "import pandas as pd\n",
    "import numpy as np\n",
    "import matplotlib.pyplot as plt\n",
    "import requests\n",
    "import json\n",
    "\n",
    "invoices_id = \"1_JUP1EYc4r1jgNpeLh7mMQxsKOsT-pcs\"\n",
    "customers_id = \"1n6ePaU-cPfzhBKnSeGeynAxR9IYmCS0w\"\n",
    "\n",
    "invoices = pd.read_csv(f\"https://drive.google.com/uc?id={invoices_id}\")\n",
    "\n",
    "url = f\"https://drive.usercontent.google.com/download?id={customers_id}&export=download&authuser=0&confirm=t\"\n",
    "response = requests.get(url)\n",
    "data = json.loads(response.text)\n",
    "\n",
    "customers = pd.DataFrame.from_dict(data, orient='index').reset_index()\n",
    "customers = customers.rename(columns={'index': 'customer_id'})\n",
    "customers['customer_id'] = pd.to_numeric(customers['customer_id'], errors='coerce')\n",
    "customers['age'] = pd.to_numeric(customers.get('age', pd.NA), errors='coerce')\n",
    "\n",
    "invoices['invoice_date'] = pd.to_datetime(invoices['invoice_date'], errors='coerce')\n",
    "invoices['price'] = pd.to_numeric(invoices['price'], errors='coerce')\n",
    "\n",
    "df = invoices.merge(customers, on='customer_id', how='left')"
   ]
  },
  {
   "cell_type": "code",
   "execution_count": 3,
   "id": "164543a3-3dcc-41a5-a9c9-82da798625d4",
   "metadata": {},
   "outputs": [
    {
     "data": {
      "text/plain": [
       "5191"
      ]
     },
     "execution_count": 3,
     "metadata": {},
     "output_type": "execute_result"
    }
   ],
   "source": [
    "# Easy 1\n",
    "invoices['customer_id'].nunique()"
   ]
  },
  {
   "cell_type": "code",
   "execution_count": 4,
   "id": "d050dfac-1c46-47f9-8b38-b19072e3ccd8",
   "metadata": {},
   "outputs": [
    {
     "data": {
      "text/plain": [
       "8"
      ]
     },
     "execution_count": 4,
     "metadata": {},
     "output_type": "execute_result"
    }
   ],
   "source": [
    "# Easy 2  \n",
    "df['category'].unique()\n",
    "df['category'].nunique()"
   ]
  },
  {
   "cell_type": "code",
   "execution_count": 5,
   "id": "6d3a779a-75b2-4e6f-b631-bb71c3f465dd",
   "metadata": {},
   "outputs": [
    {
     "data": {
      "text/plain": [
       "payment_method\n",
       "Cash    44447\n",
       "Name: count, dtype: int64"
      ]
     },
     "execution_count": 5,
     "metadata": {},
     "output_type": "execute_result"
    }
   ],
   "source": [
    "# Easy 3\n",
    "df['payment_method'].value_counts().head(1)"
   ]
  },
  {
   "cell_type": "code",
   "execution_count": 6,
   "id": "1327efdc-6167-425d-9f58-fe53311940d4",
   "metadata": {},
   "outputs": [
    {
     "data": {
      "text/plain": [
       "category\n",
       "Clothing      31075684.64\n",
       "Shoes         18135336.89\n",
       "Technology    15772050.00\n",
       "Name: price, dtype: float64"
      ]
     },
     "execution_count": 6,
     "metadata": {},
     "output_type": "execute_result"
    }
   ],
   "source": [
    "# Medium 1\n",
    "df.groupby('category')['price'].sum().sort_values(ascending=False).head(3)"
   ]
  },
  {
   "cell_type": "code",
   "execution_count": 7,
   "id": "c1c0ec8e-ceeb-4a8f-a6aa-c8462f34ad7b",
   "metadata": {},
   "outputs": [
    {
     "data": {
      "text/plain": [
       "0.0"
      ]
     },
     "execution_count": 7,
     "metadata": {},
     "output_type": "execute_result"
    }
   ],
   "source": [
    "# Medium 2\n",
    "df[df['age'] > 45]['price'].sum()"
   ]
  },
  {
   "cell_type": "code",
   "execution_count": null,
   "id": "fb6c4edd-98b0-4fed-ac84-e151a17690cc",
   "metadata": {},
   "outputs": [],
   "source": [
    "# Medium 3\n",
    "monthly_sales = df.set_index('invoice_date')['price'].resample('M').sum()\n",
    "monthly_sales.plot(figsize=(10,6))\n",
    "plt.title('Monthly Sales Over Time')\n",
    "plt.show()"
   ]
  },
  {
   "cell_type": "code",
   "execution_count": null,
   "id": "3ecdeaef-0e7b-449a-a934-e687d60df635",
   "metadata": {},
   "outputs": [],
   "source": [
    "# Hard 1\n",
    "age_bins = list(range(0, 101, 10))\n",
    "age_labels = [f\"{i}-{i+9}\" for i in range(0, 100, 10)]\n",
    "df['age_decade'] = pd.cut(df['age'], bins=age_bins, labels=age_labels, right=False)\n",
    "pd.pivot_table(df, values='price', index=['category', 'age_decade'], aggfunc='sum', fill_value=0)"
   ]
  }
 ],
 "metadata": {
  "kernelspec": {
   "display_name": "anaconda-panel-2023.05-py310",
   "language": "python",
   "name": "conda-env-anaconda-panel-2023.05-py310-py"
  },
  "language_info": {
   "codemirror_mode": {
    "name": "ipython",
    "version": 3
   },
   "file_extension": ".py",
   "mimetype": "text/x-python",
   "name": "python",
   "nbconvert_exporter": "python",
   "pygments_lexer": "ipython3",
   "version": "3.11.5"
  }
 },
 "nbformat": 4,
 "nbformat_minor": 5
}
