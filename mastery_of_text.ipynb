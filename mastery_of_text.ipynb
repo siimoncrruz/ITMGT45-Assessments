{
 "cells": [
  {
   "cell_type": "code",
   "execution_count": 7,
   "id": "d9be32d2-4a0b-4c55-a990-528de3e458b6",
   "metadata": {},
   "outputs": [
    {
     "name": "stdout",
     "output_type": "stream",
     "text": [
      "Lines: 99969\n",
      "Words: 795227\n",
      "The word \"apostle\" showed up 47 times.\n",
      "The most common word is 'the', which appeared 64309 times.\n"
     ]
    }
   ],
   "source": [
    "from urllib import request\n",
    "\n",
    "# save the url as a variable, source >>> https://proxiesapi.com/articles/retrieving-and-parsing-text-from-urls-with-python-s-urllib, https://stackoverflow.com/questions/606191/convert-bytes-to-a-string-in-python-3 \n",
    "url = \"https://www.gutenberg.org/cache/epub/10/pg10.txt\"\n",
    "pg10 = request.urlopen(url).read().decode(\"utf-8\")\n",
    "\n",
    "# split the text in the variable pg10 whenever there is a new line\n",
    "num_lines = len(pg10.split(\"\\n\"))\n",
    "print(f\"\"\"Lines: {num_lines}\"\"\")\n",
    "\n",
    "# total number of words\n",
    "def extract_words(text):\n",
    "    words = []\n",
    "    word = \"\"\n",
    "    for ch in text:\n",
    "        if ch.isalpha():\n",
    "            word += ch\n",
    "        else:\n",
    "            if word:\n",
    "                words.append(word)\n",
    "                word = \"\"\n",
    "    if word:           \n",
    "        words.append(word)\n",
    "    return words\n",
    "\n",
    "words = extract_words(pg10)\n",
    "print(f\"\"\"Words: {len(words)}\"\"\")\n",
    "\n",
    "# total number of times \"apostle\" showed up\n",
    "count_apostle = sum(1 for w in words if w.lower() == \"apostle\")\n",
    "print(f\"\"\"The word \"apostle\" showed up {count_apostle} times.\"\"\")\n",
    "\n",
    "# most common word\n",
    "word_counts = {}\n",
    "# loop to find the number of times the word appears, add a number if it has already appeared, otherwise start at 1\n",
    "for w in words:\n",
    "    lw = w.lower()\n",
    "    if lw in word_counts:\n",
    "        word_counts[lw] = word_counts[lw] + 1\n",
    "    else:\n",
    "        word_counts[lw] = 1\n",
    "\n",
    "# go through all the items in word_counts, update the variables everytime you find the most common word and its respective highest number\n",
    "most_common_word = ''\n",
    "highest_count = 0\n",
    "for word, count in word_counts.items():\n",
    "    if count > highest_count:\n",
    "        most_common_word = word\n",
    "        highest_count = count\n",
    "\n",
    "print(f\"\"\"The most common word is '{most_common_word}', which appeared {highest_count} times.\"\"\")"
   ]
  },
  {
   "cell_type": "code",
   "execution_count": null,
   "id": "7845fd14-f78c-4d0b-bd9e-e406823e9583",
   "metadata": {},
   "outputs": [],
   "source": []
  }
 ],
 "metadata": {
  "kernelspec": {
   "display_name": "anaconda-2024.02-py310",
   "language": "python",
   "name": "conda-env-anaconda-2024.02-py310-py"
  },
  "language_info": {
   "codemirror_mode": {
    "name": "ipython",
    "version": 3
   },
   "file_extension": ".py",
   "mimetype": "text/x-python",
   "name": "python",
   "nbconvert_exporter": "python",
   "pygments_lexer": "ipython3",
   "version": "3.10.14"
  }
 },
 "nbformat": 4,
 "nbformat_minor": 5
}
